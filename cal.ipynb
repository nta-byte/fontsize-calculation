{
 "cells": [
  {
   "cell_type": "code",
   "execution_count": 14,
   "metadata": {
    "collapsed": true,
    "pycharm": {
     "is_executing": false
    }
   },
   "outputs": [],
   "source": [
    "import os\n",
    "import cv2\n",
    "import pandas as pd\n",
    "import numpy as  np\n",
    "from PIL import Image, ImageFont, ImageDraw\n",
    "\n",
    "def get_img_paths(dir_, extensions=('.jpg', '.png', '.jpeg', '.PNG', '.JPG', '.JPEG', 'jfif')):\n",
    "    img_paths = []\n",
    "\n",
    "    for root, dirs, files in os.walk(dir_):\n",
    "        for file in files:\n",
    "            for e in extensions:\n",
    "                if file.endswith(e):\n",
    "                    p = os.path.join(root, file)\n",
    "                    img_paths.append(p)\n",
    "\n",
    "    return img_paths\n",
    "\n",
    "def get_font_size(text, width):\n",
    "    # hei = 0\n",
    "    fontsize = 10\n",
    "    while True:\n",
    "        font = ImageFont.truetype(\"DejaVuSans.ttf\", fontsize)\n",
    "        # all_size = []\n",
    "        # for char in default_char_list:\n",
    "        im = Image.new(\"RGB\", (800, 600))\n",
    "        draw = ImageDraw.Draw(im)\n",
    "        draw.text((0, 0),text, font=font)\n",
    "        im=im.crop(im.getbbox())\n",
    "        # print(text, im.getbbox())\n",
    "        wid = im.getbbox()[2]\n",
    "        if wid >= width:\n",
    "            break\n",
    "        else:\n",
    "            fontsize += 1\n",
    "        # all_size.append()\n",
    "        \n",
    "    # print(fontsize)\n",
    "    return fontsize\n",
    "\n",
    "def get_font_size2(text, wid,height):\n",
    "    img_fraction = 0.50\n",
    "    photo = Image.new(\"RGB\", (wid, height))\n",
    "    breakpoint = img_fraction * photo.size[0]\n",
    "    jumpsize = 5\n",
    "    fontsize = 1\n",
    "    font_path = \"DejaVuSans.ttf\"\n",
    "    font = ImageFont.truetype(font_path, fontsize)\n",
    "    \n",
    "    while True:\n",
    "        if font.getsize(text)[0] < breakpoint:\n",
    "            fontsize += jumpsize\n",
    "        else:\n",
    "            jumpsize = int(jumpsize / 2)\n",
    "            fontsize -= jumpsize\n",
    "        font = ImageFont.truetype(font_path, fontsize)\n",
    "        if jumpsize <= 1:\n",
    "            break\n",
    "    return fontsize"
   ]
  },
  {
   "cell_type": "code",
   "execution_count": 15,
   "outputs": [
    {
     "name": "stdout",
     "text": [
      "GT_word_icdar_refined1508/SCAN_20191128_145142994_004.txt\n15 19 32 2\n20 37 38 2.\n23 59 38 Cơ\n18 94 35 quan\n20 47 36 có\n18 98 46 thẩm\n20 120 55 quyền\n18 93 45 đăng\n28 63 46 ký\n20 94 35 cung\n18 67 55 cấp\n20 114 44 thông\n20 50 41 tin\n20 48 45 về\n20 83 43 biện\n18 94 46 pháp\n20 73 40 bảo\n18 93 43 đảm;\n20 47 26 cơ\n18 93 36 quan\n20 46 35 có\n18 98 54 thẩm\n18 115 53 quyền\n18 92 48 quản\n23 39 47 lý\n18 71 38 nhà\n20 96 37 nước\n20 48 47 về\n18 93 45 đăng\n23 49 49 ký\n18 82 50 biện\n18 92 49 pháp\n18 68 40 bảo\n18 92 50 đảm.\n20 38 39 3.\n23 58 37 Cá\n23 107 48 nhân\n18 95 47 pháp\n20 97 38 nhân\n20 93 37 khác\n20 47 36 có\n20 74 42 liên\n18 103 46 quan.\n23 98 45 Điều\n20 40 40 3.\n23 87 37 Giải\n23 105 37 thích\n23 48 36 từ\n23 83 45 ngữ\n20 118 43 Trong\n23 98 47 Nghị\n20 89 44 định\n23 85 45 này\n18 64 38 các\n20 45 37 từ\n20 77 44 ngữ\n20 86 40 dưới\n18 68 46 đây\n20 98 43 được\n20 86 47 hiểu\n20 77 37 như\n18 74 25 sau:\n18 34 39 1.\n20 104 44 Đăng\n23 50 48 ký\n20 86 45 biện\n18 94 48 pháp\n18 70 36 bảo\n18 83 37 đảm\n20 38 36 là\n20 80 44 việc\n20 49 26 cơ\n18 94 37 quan\n18 96 46 đăng\n23 52 46 ký\n20 61 47 ghi\n18 69 37 vào\n18 43 46 sổ\n18 96 45 đăng\n23 56 47 ký\n18 92 45 hoặc\n18 95 47 nhập\n18 70 37 vào\n20 48 25 cơ\n18 44 36 sở\n20 53 35 dữ\n20 74 42 liệu\n20 49 46 về\n20 80 44 việc\n18 71 38 bên\n18 70 36 bảo\n18 84 38 đảm\n20 99 45 dùng\n20 51 39 tài\n18 64 37 sản\n18 46 47 để\n18 68 38 bảo\n18 85 41 đảm\n20 86 42 thực\n20 86 43 hiện\n20 110 46 nghĩa\n23 51 35 vụ\n20 60 46 đối\n23 66 40 với\n18 70 37 bên\n18 95 42 nhận\n18 71 38 bảo\n18 92 43 đảm;\n18 36 39 2.\n20 50 46 Sổ\n18 96 47 đăng\n23 53 47 ký\n20 36 36 là\n20 51 47 Sổ\n20 60 45 địa\n20 108 38 chính\n18 92 45 hoặc\n20 51 47 Sổ\n18 95 47",
      " đăng\n23 52 47 ký\n18 61 46 thế\n18 90 55 chấp\n18 48 38 tài\n18 65 36 sản\n18 68 55 gắn\n20 75 45 liền\n23 63 36 với\n18 60 48 đất\n20 89 36 hình\n18 109 37 thành\n20 105 42 trong\n20 114 41 tương\n20 47 41 lai\n20 61 48 đối\n23 63 38 với\n20 86 48 biện\n18 96 47 pháp\n18 71 37 bảo\n18 84 37 đảm\n18 94 56 bằng\n18 118 58 quyền\n20 47 36 sử\n20 99 45 dụng\n23 72 51 đất\n20 49 39 tài\n18 63 36 sản\n18 72 56 gắn\n20 75 43 liền\n23 64 36 với\n23 72 53 đất\n20 50 46 Sổ\n18 93 46 đăng\n18 46 42 bạ\n20 63 36 tàu\n20 71 44 bay\n23 87 44 Việt\n20 95 38 Nam\n20 61 46 đối\n23 65 38 với\n20 86 44 biện\n18 95 45 pháp\n18 70 36 bảo\n18 83 37 đảm\n20 98 54 bằng\n20 63 38 tàu\n23 83 47 bay\n20 51 46 Sổ\n18 93 45 đăng\n23 49 46 ký\n18 61 37 tàu\n20 86 48 biển\n20 94 55 quốc\n20 60 46 gia\n23 83 46 Việt\n20 95 36 Nam\n20 62 46 đối\n23 66 39 với\n20 83 43 biện\n18 93 48 pháp\n18 72 36 bảo\n18 84 38 đảm\n18 94 54 bằng\n20 63 36 tàu\n20 84 47 biển\n18 92 43 hoặc\n18 42 45 sổ\n20 92 39 khác\n18 82 36 theo\n20 74 35 quy\n20 87 45 định\n18 68 36 của\n18 95 48 pháp\n18 82 48 luật;\n18 36 35 3.\n23 60 36 Cơ\n20 47 36 sở\n20 54 37 dữ\n20 74 44 liệu\n20 49 45 về\n20 85 46 biện\n18 96 45 pháp\n18 71 36 bảo\n18 81 36 đảm\n20 38 36 là\n18 62 46 tập\n20 76 45 hợp\n18 64 38 các\n20 112 44 thông\n20 51 38 tin\n20 47 44 về\n20 86 46 biện\n18 94 46 pháp\n18 70 36 bảo\n18 83 36 đảm\n18 47 38 đã\n18 93 46 đăng\n23 51 47 ký\n20 97 45 được\n23 67 38 lưu\n20 66 47 giữ\n18",
      " 47 46 tại\n20 49 25 cơ\n18 94 34 quan\n18 95 44 đăng\n20 61 46 ký;\n18 36 39 4.\n20 58 43 Hệ\n20 112 54 thống\n20 52 36 dữ\n20 74 44 liệu\n20 96 53 quốc\n20 62 44 gia\n20 47 49 về\n20 84 44 biện\n18 95 46 pháp\n18 70 37 bảo\n18 83 36 đảm\n23 39 37 là\n20 50 42 hệ\n20 112 54 thống\n18 64 36 các\n20 111 45 thông\n20 53 38 tin\n18 46 45 về\n20 85 48 biện\n18 95 48 pháp\n18 71 38 bảo\n18 84 37 đảm\n20 97 56 bằng\n18 64 36 các\n20 72 42 loại\n18 48 36 tài\n18 66 36 sản\n18 48 37 đã\n20 98 44 được\n18 96 47 đăng\n23 52 48 ký\n20 104 45 trong\n18 108 46 phạm\n23 39 40 vi\n20 47 36 cả\n20 112 40 nước;\n18 35 36 5.\n23 69 33 Mã\n18 43 46 số\n18 46 37 sử\n20 98 45 dụng\n20 49 25 cơ\n20 46 36 sở\n20 53 36 dữ\n20 74 43 liệu\n20 47 46 về\n20 86 42 biện\n18 96 46 pháp\n18 71 37 bảo\n18 83 37 đảm\n20 37 38 là\n23 51 47 ký\n20 84 52 hiệu\n18 68 47 dãy\n20 46 44 số\n20 49 35 và\n20 50 36 tài\n20 119 36 khoản\n18 95 43 đăng\n23 52 45 ký\n20 79 41 trực\n18 108 55 tuyến\n20 101 55 (gồm\n18 62 37 tên\n18 94 45 đăng\n18 96 44 nhập\n20 50 35 và\n18 76 43 mật\n20 109 57 khẩu)\n18 65 53 cấp\n20 69 36 cho\n20 46 38 cá\n23 109 48 nhân\n18 95 46 pháp\n18 95 36 nhân\n18 47 45 để\n18 94 45 đăng\n23 50 45 ký\n20 78 39 trực\n20 109 55 tuyến\n18 82 45 biện\n18 96 47 pháp\n18 68 37 bảo\n18 94 46 đảm;\n18 34 38 6.\n23 60 46 Hồ\n20 46 25 sơ\n18 96 47 đăng\n23 51 48 ký\n20 75 48 hợp\n20 38 44 lệ\n20 36 40 là\n20 51 45 hồ\n20 47 26 sơ\n18 44 37 có\n20 50 36 đủ\n20 111 56 phiếu\n20 73 43 yêu\n18 67 46 cầu\n18 92 45 đăng\n23 51 47 ký\n20 47 38 và\n18 63 37 các\n20 85 55 giấy\n20 41 36 tờ\n20 76 46 hợp\n20 38 44 lệ\n20 92",
      " 37 khác\n20 93 42 hoặc\n20 46 35 có\n20 109 57 phiếu\n18 69 44 yêu\n20 69 46 cầu\n18 96 47 đăng\n23 51 48 ký\n20 75 43 hợp\n20 37 44 lệ\n18 102 39 trong\n20 127 46 trường\n20 75 44 hợp\n20 97 48 pháp\n20 75 44 luật\n20 72 38 quy\n20 86 45 định\n20 50 45 hồ\n20 45 26 sơ\n18 94 46 đăng\n23 50 47 ký\n20 58 36 chỉ\n18 66 46 cần\n20 45 36 có\n20 111 56 phiếu\n20 73 46 yêu\n20 69 49 cầu\n18 94 44 đăng\n20 60 49 ký;\n20 37 36 7.\n20 112 46 Phiếu\n20 73 45 yêu\n18 67 46 cầu\n18 95 44 đăng\n23 51 48 ký\n20 74 44 hợp\n20 37 46 lệ\n23 39 39 là\n20 110 57 phiếu\n20 45 37 có\n18 70 54 đầy\n20 52 36 đủ\n20 49 35 và\n18 96 47 đúng\n18 64 34 các\n20 63 45 nội\n20 97 51 dung\n18 60 46 bắt\n20 94 45 buộc\n20 85 47 phải\n20 48 36 kê\n20 87 37 khai\n18 84 36 theo\n18 95 48 mẫu.\n23 99 48 Điều\n20 40 39 4.\n20 80 37 Các\n23 143 44 trường\n23 80 45 hợp\n20 102 44 đăng\n23 49 47 ký\n15 30 41 1.\n20 75 36 Các\n20 86 43 biện\n18 95 46 pháp\n18 68 36 bảo\n18 83 35 đảm\n18 65 26 sau\n18 70 45 đây\n18 82 46 phải\n18 94 44 đăng\n20 62 48 ký:\n18 36 46 a)\n20 77 45 Thế\n18 90 56 chấp\n18 117 56 quyền\n20 49 37 sử\n20 97 47 dụng\n18 69 54 đất;\n20 40 46 b)\n20 79 45 Thế\n18 90 56 chấp\n18 48 36 tài\n18 63 35 sản\n18 70 56 gắn\n20 73 47 liền\n23 64 38 với\n18 58 46 đất\n18 102 39 trong\n20 130 44 trường\n20 76 46 hợp\n20 49 38 tài\n18 64 36 sản\n18 47 36 đó\n18 45 36 đã\n20 97 44 được\n20 118 46 chứng\n18 95 44 nhận\n18 118 54 quyền\n20 45 35 sở\n23 79 36 hữu\n18 77 35 trên\n20 94 54 Giấy\n20 119 46 chứng\n18 96 42 nhận\n20 119 56 quyền\n18 46 37 sử\n18 96 45 dụng\n23 70",
      " 57 đất\n18 113 55 quyền\n20 47 41 sở\n20 76 37 hữu\n18 71 37 nhà\n20 26 36 ở\n20 49 35 và\n20 49 39 tài\n18 64 36 sản\n20 93 36 khác\n18 70 50 gắn\n20 74 44 liền\n20 62 37 với\n18 69 52 đất;\n20 36 47 c)\n20 93 48 Cầm\n20 46 45 cố\n20 63 37 tàu\n23 84 47 bay\n20 63 45 thế\n18 90 55 chấp\n18 62 37 tàu\n18 79 46 bay;\n20 39 47 d)\n20 79 47 Thế\n18 90 55 chấp\n18 61 35 tàu\n20 95 45 biển.\nGT_word_icdar_refined1508/SCAN_20191128_145142994_005.txt\n18 22 33 6\n20 41 46 đ)\n25 93 46 Thu\n23 87 45 nộp\n18 95 45 quản\n23 41 46 lý\n20 49 37 và\n20 47 37 sử\n20 97 44 dụng\n20 65 45 phí\n18 94 45 đăng\n28 63 46 ký\n23 67 50 phí\n20 94 36 cung\n18 64 56 cấp\n20 111 45 thông\n20 54 38 tin\n20 48 50 về\n20 83 42 giao\n20 82 46 dịch\n18 71 35 bảo\n18 83 36 đảm\n18 85 38 theo\n20 72 35 quy\n20 86 46 định\n20 69 37 của\n18 93 47 pháp\n20 86 46 luật;\n18 36 47 e)\n20 104 47 Quản\n23 38 47 lý\n20 112 48 thông\n20 53 35 tin\n18 94 45 đăng\n23 49 46 ký\n20 77 38 trực\n20 109 55 tuyến\n18 83 36 theo\n18 99 46 thẩm\n18 129 59 quyền;\n20 42 47 g)\n20 77 46 Cập\n18 86 44 nhật\n20 113 45 thông\n20 53 37 tin\n18 46 53 về\n20 83 43 biện\n18 94 47 pháp\n18",
      " 70 37 bảo\n18 85 36 đảm\n20 71 36 vào\n23 61 44 Hệ\n18 110 54 thống\n20 55 36 dữ\n20 76 44 liệu\n20 96 53 quốc\n20 60 47 gia\n20 48 41 về\n20 83 47 biện\n20 97 47 pháp\n18 71 35 bảo\n18 92 42 đảm;\n20 41 45 h)\n23 83 35 Lưu\n20 59 35 trữ\n20 51 45 hồ\n25 59 33 sơ\n20 49 37 tài\n20 74 43 liệu\n20 47 45 về\n18 95 45 đăng\n23 50 47 ký\n20 87 44 biện\n18 93 48 pháp\n18 70 36 bảo\n18 80 38 đảm\n18 83 37 theo\n20 73 35 quy\n20 88 46 định\n20 69 37 của\n18 96 47 pháp\n20 75 45 luật\n20 48 47 về\n20 64 34 lưu\n20 69 36 trữ.\n20 37 34 2.\n23 60 35 Cơ\n18 95 35 quan\n18 96 44 đăng\n28 64 46 ký\n20 94 36 cung\n18 67 55 cấp\n20 113 46 thông\n20 54 36 tin\n18 46 46 về\n20 86 45 biện\n20 97 47 pháp\n18 68 37 bảo\n18 81 35 đảm\n20 47 35 có\n20 99 41 trách\n20 122 43 nhiệm\n18 66 24 sau\n18 80 45 đây:\n18 38 46 a)\n20 106 44 Đăng\n23 51 49 ký\n20 109 38 chính\n20 69 36 xác\n20 64 47 nội\n20 98 45 dung\n20 108 58 phiếu\n20 73 47 yêu\n18 68 47 cầu\n20 97 47 đăng\n20 62 50 ký;\n20 40 47 b)\n20 105 43 Đăng\n23 54 45 ký\n20 49 36",
      " và\n20 94 33 cung\n18 67 54 cấp\n20 112 45 thông\n20 53 36 tin\n20 47 47 về\n20 86 44 biện\n18 94 46 pháp\n18 70 36 bảo\n18 84 37 đảm\n18 96 47 đúng\n20 76 38 thời\n23 86 47 hạn\n20 58 36 trừ\n20 130 47 trường\n20 75 46 hợp\n18 59 47 bất\n20 74 36 khả\n18 128 44 kháng;\n20 37 47 c)\n20 105 45 Cung\n18 67 53 cấp\n20 112 45 thông\n20 53 36 tin\n20 49 47 về\n20 86 43 biện\n18 94 46 pháp\n18 71 36 bảo\n23 97 45 đảm\n18 77 33 trao\n20 63 47 đổi\n20 111 45 thông\n20 54 39 tin\n20 47 46 về\n20 79 41 tình\n18 100 40 trạng\n18 94 45 pháp\n23 40 45 lý\n18 68 36 của\n20 50 36 tài\n18 65 35 sản\n18 69 36 bảo\n18 83 37 đảm\n20 98 47 đúng\n23 63 36 với\n20 113 46 thông\n20 53 41 tin\n20 98 43 được\n23 66 35 lưu\n20 65 46 giữ\n20 49 45 tại\n20 48 25 cơ\n20 97 37 quan\n18 94 45 đăng\n23 63 47 ký.\n20 96 46 Điều\n18 60 36 11.\n23 74 37 Phí\n20 101 46 đăng\n28 65 47 ký\n20 97 35 cung\n20 71 54 cấp\n20 119 44 thông\n23 55 36 tin\n20 48 45 về\n20 87 46 biện\n20 103 47 pháp\n18 71 37 bảo\n25 109 50 đảm\n20 73 58 cấp\n20 63 37 mã\n20 45 44 số\n20 47 36 sử\n20 104 43 dụng\n20 50 26 cơ\n20 47 37 sở\n23 60 36 dữ\n20 75 47 liệu\n20 48 46 về\n20 87 46 biện\n20 103 46 pháp\n20 75 37 bảo\n20 91 36 đảm\n23 73 36 Khi\n20 47 37 có\n20 72 46 yêu\n18 67 45 cầu\n18 94 46 đăng\n23 52 47 ký\n20 84 45 biện\n18 95 46 pháp\n18 71 38 bảo\n23 93 45 đảm\n20 73 45 yêu\n20 69 45 cầu\n20 94 36 cung\n18 66 53 cấp\n20",
      " 112 44 thông\n20 52 38 tin\n18 46 44 về\n20 84 42 biện\n18 95 47 pháp\n18 71 36 bảo\n23 95 49 đảm\n20 73 45 yêu\n18 67 46 cầu\n18 64 52 cấp\n18 70 37 bản\n18 63 24 sao\n18 69 35 văn\n20 73 36 bản\n20 121 44 chứng\n18 94 44 nhận\n18 94 44 đăng\n23 52 46 ký\n20 86 46 biện\n18 94 48 pháp\n18 70 36 bảo\n23 97 48 đảm\n20 72 45 yêu\n18 68 41 cầu\n18 66 56 cấp\n18 60 34 mã\n18 43 49 số\n18 46 39 sử\n20 97 46 dụng\n20 48 27 cơ\n20 47 38 sở\n20 55 38 dữ\n20 75 48 liệu\n20 48 47 về\n18 82 46 biện\n18 96 46 pháp\n18 72 39 bảo\n23 97 47 đảm\n20 53 36 thì\n20 113 46 người\n20 71 45 yêu\n18 68 46 cầu\n20 86 48 phải\n18 72 47 nộp\n20 64 50 phí\n18 94 46 đăng\n23 54 49 ký\n18 81 46 giao\n20 88 46 dịch\n18 70 38 bảo\n23 94 46 đảm\n20 63 46 phí\n20 94 35 cung\n18 66 56 cấp\n20 112 47 thông\n20 53 37 tin\n20 47 44 về\n20 84 46 giao\n20 85 44 dịch\n18 70 37 bảo\n23 94 45 đảm\n20 65 47 phí\n18 67 50 cấp\n20 73 36 bản\n18 64 26 sao\n20 49 37 và\n20 66 47 phí\n18 66 58 cấp\n18 62 36 mã\n18 43 44 số\n18 45 36 sử\n20 99 47 dụng\n20 49 25 cơ\n20 47 36 sở\n18 50 36 dữ\n20 73 44 liệu\n20 47 45 về\n20 83 48 giao\n20 84 45 dịch\n18 71 37 bảo\n18 81 37 đảm\n18 86 38 theo\n20 72 36 quy\n20 88 44 định\n20 69 37 của\n20 97 49 pháp\n20 75 45 luật\n18 46 47 về\n20 63 47 phí\n20 49 37 và\n20 35 44 lệ\n25 78 49 phí\n20 59 37 trừ\n20 130 45 trường\n20 77 47 hợp\n20 124 47 không\n20 84 48 phải\n20 74 45 nộp\n20 64 50 phí\n18 93 46 đăng\n28 66 46 ký\n20 62 46 phí\n20 94 35 cung\n18 66 54 cấp\n20 111 45 thông\n20 51 36 tin\n18 84 36 theo\n20 74 36 quy\n20 88 43 định\n18 67 36 của\n18 93 46 pháp\n20 85 43 luật.\n20 96 54 Điều\n20 63 38 12.\n23 100 55 Giấy\n23 47 36 tờ\n20 127 46 chứng\n23 106 38 minh\n23 144 47 trường\n23 80 44 hợp\n23 131 47 không\n20 90 47 phải\n20 78 46 nộp\n23 69 45 phí",
      "\n23 65 37 khi\n23 94 44 thực\n20 88 47 hiện\n20 102 45 đăng\n23 52 47 ký\n20 86 47 biện\n20 102 46 pháp\n20 73 37 bảo\n20 90 37 đảm\n18 33 37 1.\n20 145 45 Trường\n20 75 45 hợp\n18 44 36 cá\n23 108 43 nhân\n20 52 45 hộ\n20 59 49 gia\n20 88 37 đình\n23 40 39 là\n20 61 45 đối\n20 118 42 tượng\n20 123 46 không\n18 81 47 phải\n18 72 44 nộp\n20 62 46 phí\n23 63 37 khi\n20 86 43 thực\n20 84 45 hiện\n18 95 44 đăng\n23 51 47 ký\n20 86 44 biện\n18 95 46 pháp\n18 70 36 bảo\n18 85 37 đảm\n18 84 37 theo\n20 73 35 quy\n20 89 47 định\n20 69 36 của\n18 93 48 pháp\n20 73 44 luật\n20 48 42 về\n20 107 37 chính\n18 85 36 sách\n20 52 37 tín\n20 98 46 dụng\n20 97 45 phục\n23 51 33 vụ\n18 86 46 phát\n20 89 47 triển\n20 100 45 nông\n23 148 47 nghiệp\n20 99 44 nông\n23 101 48 thôn\n20 51 38 thì\n20 111 48 người\n18 70 44 yêu\n18 67 47 cầu\n18 94 44 đăng\n23 50 46 ký\n20 73 44 nộp\n20 78 43 một\n20 103 45 trong\n18 64 37 các\n20 72 48 loại\n20 82 53 giấy\n23 44 36 tờ\n18 65 24 sau\n18 70 46 đây\n18 48 45 để\n18 72 38 làm\n18 68 35 căn\n20 49 36 cứ\n20 118 47 chứng\n20 101 36 minh\n18 106 46 thuộc\n20 61 49 đối\n20 115 40 tượng\n20 121 44 không\n20 83 45 phải\n20 74 45 nộp\n20 74 47 phí:\n18 37 45 a)\n23 86 47 Hợp\n20 98 56 đồng\n18 69 36 bảo\n18 81 36 đảm\n18 91 45 hoặc\n20 75 46 hợp\n18 96 55 đồng\n20 54 35 tín\n20 97 49 dụng\n20 47 36 có\n18 82 48 điều\n18 117 37 khoản\n18 46 45 về\n20 78 43 việc\n20 45 37 cá\n23 105 40 nhân\n20 51 44 hộ\n20 62 47 gia\n20 87 39 đình\n20 70 36 vay\n20 74 45 vốn\n18 46 36 sử\n18 96 46 dụng\n18 70 37 vào\n20 77 44 một\n18 102 41 trong\n20 66 37 các\n23 77 38 lĩnh\n20 71 33 vực\n20 93 44 phục\n20 49 32 vụ\n18 86 47 phát\n18 86 45 triển\n20 98 48 nông\n23 144 51 nghiệp\n20 98 46 nông\n18 86 36 thôn\n18 60 44 (01\n18 70 38 bản\n20 108 38 chính\n18 92 42 hoặc\n18 43 36 01\n18 72 36 bản\n18 64 24 sao\n18 44 35 có\n20 117 46 chứng\n20 111 46 thực);\n",
      "GT_word_icdar_refined1508/SCAN_20191128_145142994_003.txt\n15 39 37 Ký\n15 58 31 bởi:\n18 83 41 Cổng\n18 104 37 Thông\n18 43 29 tin\n18 71 35 điện\n18 37 31 tử\n18 92 31 Chính\n18 61 37 phủ\n15 94 32 Email:\n18 520 39 thongtinchinhphu@chinhphu.vn\n18 45 31 Cơ\n15 90 30 quan:\n15 61 31 Văn\n18 103 38 phòng\n18 91 30 Chính\n18 62 38 phủ\n10 57 24 CỔNG\n8 70 24 THÔNG\n8 32 21 TIN\n8 46 33 ĐIỆN\n8 26 27 TỬ\n10 64 26 CHÍNH\n10 41 25 PHỦ\n15 70 32 Thời\n15 67 38 gian\n15 43 38 ký:\n15 170 33 05.09.2017\n15 133 30 08:33:58\n15 108 30 +07:00\n23 152 46 CHÍNH\n23 95 44 PHỦ\n23 130 49 CỘNG\n23 105 43 HÒA\n25 68 40 XÃ\n23 88 46 HỘI\n23 97 44 CHỦ\n23 154 40 NGHĨA\n25 108 46 VIỆT\n25 113 33 NAM\n20 82 46 Độc\n23 65 48 lập\n28 19 41 -\n23 63 44 Tự\n20 49 35 do\n30 22 45 -\n23 114 45 Hạnh\n23 103 47 phúc\n18 57 46 Số:\n18 312 37 102/2017/NĐ-CP\n23 63 37 Hà\n23 80 45 Nội\n20 95 46 ngày\n20 52 36 01\n20 111 48 tháng\n23 28 35 9\n18 86 36 năm\n20 97 35 2017\n25 132 45 NGHỊ\n25 126 44 ĐỊNH\n10 60 39 CỔNG\n10 46 41 PHU\n23 59 46 Về\n20 101 45 đăng\n20 48 45 ký\n20 87 46 biện\n20 104 45 pháp\n20 73 37 bảo\n20 92 37 đảm\n18 75 56 ĐẾN\n13 50 39 Giờ:\n10 64 44 Ngày:\n23 159 44 01/9/17\n23 83 37 Căn\n20 51 35 cứ\n23 96 43 Luật\n23 45 46 tổ\n20 93 36 chức\n20 114 39 Chính\n23 83 45 phủ\n20 98 45 ngày\n18 48 36 19\n18 110 44 tháng\n23 29 35 6\n18 84 36 năm\n20 109 40 2015;\n23 83 36 Căn\n20 50 38 cứ\n23 58 43 Bộ\n20 79 45 luật\n20 76 36 dân\n20 51 30 sự\n20 96 44 ngày\n20 51 36 24\n20 113 47 tháng\n18 45 35 11\n18 82 36 năm\n20 112 43 2015;\n23 83 38 Căn\n20 50 38 cứ\n23 59 42 Bộ\n20 79 44 luật\n20 100 47 hàng\n20 64 38 hải\n20 77 46 Việt\n20 93 36 Nam\n20 96 45 ngày\n20 51 35 25\n20 113 45 tháng\n18 45 35 11\n18 85 37 năm\n18 108 42 2015;\n20 82 37 Căn\n20 51 34 cứ\n20 92 42 Luật\n20 66 45 đất\n20 64 37 đai",
      "\n18 94 45 ngày\n20 51 35 29\n20 112 47 tháng\n18 47 36 11\n18 81 36 năm\n20 111 42 2013;\n23 83 37 Căn\n20 53 36 cứ\n20 92 44 Luật\n20 75 36 nhà\n23 30 36 ở\n18 93 47 ngày\n20 49 34 25\n20 111 47 tháng\n18 46 35 11\n18 85 34 năm\n18 108 42 2014;\n20 80 36 Căn\n20 52 35 cứ\n20 92 41 Luật\n20 101 47 hàng\n20 119 47 không\n18 71 34 dân\n20 100 45 dụng\n20 79 42 Việt\n20 94 36 Nam\n20 97 45 ngày\n20 49 34 29\n20 113 46 tháng\n23 28 36 6\n18 86 33 năm\n20 98 36 2006\n20 48 37 và\n20 88 42 Luật\n20 71 37 sửa\n23 68 56 đổi\n20 50 45 bổ\n18 92 35 sung\n18 72 42 một\n20 47 45 số\n18 81 46 điều\n18 67 36 của\n20 89 43 Luật\n20 97 45 hàng\n20 119 46 không\n20 74 37 dân\n18 96 48 dụng\n20 75 44 Việt\n20 94 39 Nam\n20 96 47 ngày\n18 46 35 11\n20 111 47 tháng\n18 44 36 12\n18 84 34 năm\n20 109 40 2014;\n20 81 35 Căn\n20 52 35 cứ\n23 93 44 Luật\n20 73 37 bảo\n18 46 44 vệ\n18 45 36 và\n20 94 45 phát\n20 92 46 triển\n23 97 46 rừng\n18 94 47 ngày\n18 48 35 03\n20 111 48 tháng\n18 46 36 12\n18 83 35 năm\n18 108 40 2004;\n18 95 36 Theo\n20 50 46 đề\n20 88 46 nghị\n20 72 38 của\n23 57 43 Bộ\n20 132 47 trưởng\n23 58 43 Bộ\n20 53 36 Tư\n20 116 45 pháp;\n20 119 37 Chính\n23 86 44 phủ\n20 76 36 ban\n20 101 37 hành\n20 96 45 Nghị\n20 86 43 định\n20 50 45 về\n20 102 45 đăng\n23 52 47 ký\n20 83 42 biện\n20 103 44 pháp\n20 74 37 bảo\n18 95 39 đảm.\n20 155 42 Chương\n28 18 33 I\n23 168 43 NHỮNG\n23 98 40 QUY\n23 119 42 ĐỊNH\n23 163 34 CHUNG\n23 98 48 Điều\n18 35 39 1.\n23 121 44 Phạm\n23 40 35 vi\n20 86 46 điều\n20 111 36 chỉnh\n23 99 47 Nghị\n20 86 49 định\n20 72 48 này\n20 75 36 quy\n20 87 44 định\n20 64 37 thủ\n20 59 40 tục\n18 92 47 đăng\n23 53 48 ký\n20 84 45 biện\n18 96 48 pháp\n18 69 38 bảo\n23 95 49 đảm\n18 92 36 cung\n18 66 58 cấp\n20 112 46 thông\n20 53 39 tin\n18 46 44 về\n20 83 45 biện\n20 97 47 pháp\n18 70 37 bảo\n18 82 37 đảm\n18 95 54 bằng\n20 50 36 tài\n18 65 36 sản\n18 81 45 (sau\n18 70 ",
      "45 đây\n20 63 46 gọi\n20 117 45 chung\n20 37 39 là\n18 92 46 đăng\n28 64 48 ký\n20 95 34 cung\n18 67 57 cấp\n18 110 45 thông\n20 52 37 tin\n20 49 47 về\n20 83 44 biện\n18 93 47 pháp\n18 70 38 bảo\n18 109 49 đảm);\n18 93 45 quản\n23 39 48 lý\n20 73 36 nhà\n20 98 37 nước\n20 49 46 về\n18 92 49 đăng\n23 49 47 ký\n20 83 45 biện\n18 96 47 pháp\n18 70 36 bảo\n18 95 41 đảm.\n20 96 49 Điều\n20 39 41 2.\n23 72 47 Đối\n23 123 42 tượng\n20 51 45 áp\n20 102 47 dụng\n18 34 36 1.\n20 56 36 Cá\n23 109 50 nhân\n18 94 47 pháp\n18 95 36 nhân\n20 45 36 có\n20 72 47 yêu\n18 67 46 cầu\n18 95 46 đăng\n23 51 47 ký\n20 84 51 biện\n20 97 47 pháp\n18 69 37 bảo\n23 96 46 đảm\n20 63 37 tìm\n20 83 48 hiểu\n20 112 46 thông\n23 55 36 tin\n18 46 46 về\n18 82 44 biện\n18 95 47 pháp\n18 70 36 bảo\n18 93 40 đảm.\n23 60 42 Hộ\n18 58 44 gia\n20 87 38 đình\n20 45 38 có\n20 71 45 yêu\n18 67 47 cầu\n18 93 46 đăng\n23 49 46 ký\n20 83 44 biện\n18 95 47 pháp\n18 70 36 bảo\n23 97 47 đảm\n20 65 39 tìm\n20 86 44 hiểu\n18 110 46 thông\n20 52 35 tin\n18 45 44 về\n20 85 44 biện\n20 97 46 pháp\n18 70 37 bảo\n18 83 37 đảm\n18 85 37 theo\n18 70 34 quy\n20 83 47 định\n18 67 34 của\n23 56 43 Bộ\n20 75 44 luật\n18 69 35 dân\n18 56 41 sự.\n10 71 37 THÔNG\n10 38 34 TIN\n10 51 43 ĐIỆN\n10 31 44 TỬ\n10 70 41 CHÍNH\n30 40 40 0\n20 162 63 TTĐTC2\n80 333 137 VGP\n",
      "GT_word_icdar_refined1508/SCAN_20191128_145142994_002.txt\n23 119 43 TRẮC\n23 181 46 NGHIỆM\n23 100 45 TÂM\n28 63 43 LÝ\n18 80 34 trình\n18 65 32 như\n18 53 40 thế\n18 128 43 không).\n18 67 39 Phụ\n18 102 42 huynh\n18 40 32 có\n18 101 50 quyền\n18 89 39 kiểm\n15 46 27 tra\n18 45 42 tất\n18 66 39 Phụ\n18 102 40 huynh\n18 62 43 hay\n18 98 41 người\n18 84 42 giám\n18 43 39 hộ\n15 38 32 có\n18 100 50 quyền\n18 63 41 biết\n18 105 42 những\n18 42 32 tin\n18 39 32 cả\n15 55 33 các\n18 43 33 tài\n18 62 37 liệu\n18 91 42 giảng\n18 68 42 dạy\n15 60 33 bao\n18 73 49 gồm\n18 43 32 tài\n18 62 41 liệu\n18 97 41 giảng\n18 59 41 dạy\n15 58 32 của\n18 54 33 tức\n18 39 43 về\n18 69 39 việc\n18 86 40 kiểm\n15 44 29 tra\n18 66 32 tâm\n20 33 40 lý\n18 54 32 mà\n18 110 39 trường\n18 75 39 thực\n18 70 40 hiện\n15 58 33 cho\n18 60 22 con\n18 70 41 giáo\n20 82 40 viên\n18 86 41 phim\n18 71 39 ảnh\n15 79 41 băng\n15 71 33 thâu\n18 59 40 hay\n18 41 34 tài\n18 63 39 liệu\n18 45 39 bổ\n18 79 31 sung\n18 77 34 khác\n18 54 41 quí\n20 35 39 vị\n18 40 33 và\n18 39 33 có\n18 101 48 quyền\n18 36 31 từ\n18 71 43 chối\n18 69 40 việc\n15 58 32 cho\n15 80 42 phép\n18 83 43 kiểm\n15 56 31 tra.\n18 92 41 (Luật\n18 82 39 được\n18 40 31 sử\n18 83 40 dụng\n18 60 35 liên\n15 79 32 quan\n15 59 41 đến\n15 52 42 bất\n18 44 41 kỳ\n15 60 42 đến\n18 69 39 việc\n18 86 33 khảo\n18 57 40 sát\n18 69 40 giáo\n18 60 39 dục\n18 38 40 số\n18 118 43 51101)\n18 82 42 phân\n18 62 32 tích\n18 62 40 hay\n18 81 33 đánh\n18 52 40",
      " giá\n15 60 32 nào\n18 88 33 khác.\n18 65 38 Phụ\n18 105 42 huynh\n18 41 31 có\n18 101 49 quyền\n18 81 51 đồng\n23 25 39 ý\n15 40 40 để\n18 74 40 thực\n18 73 41 hiện\n18 68 41 việc\n18 81 39 kiểm\n20 57 39 tra\n18 61 33 bản\n15 58 33 câu\n23 71 42 hỏi\n18 61 31 bản\n15 78 33 khảo\n23 165 55 QUYỀN\n25 155 48 RIÊNG\n23 71 39 TƯ\n23 103 47 CỦA\n23 108 46 HỌC\n23 114 35 SINH\n25 67 45 VÀ\n15 48 34 sát\n18 59 41 hay\n18 85 41 thẩm\n18 60 40 vấn\n18 66 32 như\n18 69 40 vậy.\n18 54 43 (20\n18 111 34 U.S.C.\n18 38 39 số\n18 103 32 1232h\n18 47 41 (a)\n18 39 31 và\n25 87 36 GIA\n23 123 46 ĐÌNH\n18 59 44 (b))\n18 101 34 Chính\n15 72 32 sách\n18 59 32 của\n18 59 39 học\n18 64 32 khu\n18 32 32 là\n18 106 39 những\n18 44 33 tin\n18 53 33 tức\n15 37 32 cá\n15 79 32 nhân\n18 61 33 liên\n23 178 49 KHÔNG\n23 102 46 HÚT\n23 168 46 THUỐC\n28 67 47 LÁ\n20 38 46 Ở\n23 213 52 TRƯỜNG\n15 79 30 quan\n18 46 33 tới\n18 60 39 học\n18 70 34 sinh\n18 41 32 và\n18 52 39 gia\n18 72 33 đình\n18 59 39 cần\n18 74 41 phải\n18 54 40 giữ\n18 53 33 kín\n18 88 41 chiếu\n15 72 32 theo\n20 52 46 Ủy\n15 59 32 ban\n18 91 40 Quản\n18 52 40 Trị\n18 68 38 Học\n18 71 32 Khu\n15 192 33 Sacramento\n18 83 39 ngăn\n18 72 40 cấm\n18 67 38 việc\n18 71 42 luật.\n18 90 33 Nhân\n18 71 34 viên\n18 59 39 học\n18 63 32 khu\n18 33 41 bị\n15 70 41 cấm\n18 107 41 không\n18 82 39 được\n18 72 40 thực\n18 70 40 hiện\n18 55 34 hút\n18 92 42 thuốc\n18 31 33 là\n20 25 33 ở\n18 54 40 bất\n18 42 42 kỳ\n18 51 34 lúc\n15 60 32 nào\n18 88 37 trong\n18 123 39 trường.\n20 84 39 Việc\n18 81 41 ngăn\n18 60 41 hay\n15 80 41 phân\n18 75 41 phát\n18 106 42 những\n18 84 41 dụng\n18 39 30 cụ\n18 81 33 khảo\n15 48 33 sát\n18 60 34 cho\n15 54 31 các\n18 59 38 học\n18 68 31 sinh\n15 70 40 cấm\n18 62 41 này\n15 39 39 áp\n18 82 42 dụng\n18 60 33 cho\n15 44 40 tất\n15 38 32 cả\n15 55 32 các\n18 83 34 nhân\n18 72 34 viên\n18 126 41 trường\n18 61 38 học\n18 53 31 với\n18 74 29 mục\n18 70 34 đích\n18 55 34 thu\n15 72 40 thập\n18 47 32 tin\n18 55 32 tức\n18 39 32 cá\n18 82 33 nhân\n18 41 40 để\n18 64 48 tiếp\n18 45 38 thị\n15 77 37 hoặc\n15 57 33 bán\n18 43 34 tin\n18 54 31 tức\n18 52 33 đó.\n18 60 43 Bất\n",
      "18 42 31 cứ\n18 44 33 tin\n18 54 33 tức\n18 40 33 cá\n18 82 33 nhân\n15 59 31 nào\n18 82 39 được\n18 54 41 tiết\n18 32 38 lộ\n18 69 34 sinh\n18 41 32 và\n18 81 31 quan\n18 99 32 khách\n18 87 35 trong\n18 53 43 bất\n18 42 32 cứ\n18 73 39 hoạt\n18 83 42 động\n18 65 32 nào\n18 81 41 hoặc\n18 42 38 tại\n18 54 33 bởi\n18 66 38 một\n18 60 39 học\n18 68 34 sinh\n18 37 32 từ\n15 38 33 12\n18 66 41 tuổi\n18 50 32 trở\n20 62 43 lên\n18 60 42 hay\n18 55 34 bởi\n18 65 39 một\n18 63 40 phụ\n15 52 33 các\n18 80 39 cuộn\n15 86 33 tranh\n18 41 34 tài\n18 54 39 thể\n15 82 34 thao.\n18 65 32 Các\n18 60 40 học\n18 70 34 sinh\n18 106 43 không\n18 82 40 được\n18 81 42 phép\n18 55 33 hút\n18 93 42 thuốc\n23 42 41 lá\n18 72 34 nhai\n18 61 41 hay\n18 40 31 sở\n18 66 33 hữu\n15 54 33 các\n15 55 32 sản\n18 96 46 phẩm\n15 90 41 thuốc\n18 30 33 lá\n18 102 41 huynh\n15 78 37 hoặc\n18 96 41 người\n18 84 42 giám\n18 43 37 hộ\n18 60 33 của\n18 61 40 học\n18 70 34 sinh\n18 37 32 từ\n15 38 31 12\n18 65 41 tuổi\n18 48 32 trở\n18 49 34 lên\n18 88 35 trong\n18 53 33 khi\n18 85 35 tham\n18 82 32 khảo\n18 54 33 với\n20 34 40 vị\n18 40 39 cố\n18 61 41 vấn\n18 72 39 giáo\n18 59 38 dục\n18 120 40 trường\n18 60 41 hay\n18 80 33 chứa\n18 83 41 đựng\n15 70 39 chất\n18 131 34 nicotine\n15",
      " 65 34 trên\n18 54 39 địa\n15 60 32 bàn\n18 80 38 hoặc\n18 43 24 cơ\n18 38 33 sở\n15 57 41 cần\n18 71 40 phải\n18 55 40 giữ\n18 33 33 bí\n15 64 39 mật\n18 93 39 ngoại\n18 50 32 trừ\n18 43 33 do\n18 63 43 luật\n15 80 42 pháp\n18 53 41 qui\n18 83 41 định.\n18 112 40 trường\n18 61 40 hay\n18 89 37 trong\n18 55 39 giờ\n20 72 40 học\n18 42 39 tại\n18 106 41 những\n18 78 40 cuộc\n18 88 32 tranh\n18 45 34 tài\n18 41 32 do\n18 89 41 (Luật\n18 69 42 giáo\n18 60 40 dục\n18 37 41 số\n18 116 40 49602)\n18 98 42 (Theo\n15 77 48 chấp\n15 92 42 thuận\n15 57 32 của\n20 52 49 Ủy\n18 66 31 Ban\n18 111 41 trường\n15 60 32 bảo\n20 60 36 trợ\n18 79 41 hoặc\n18 87 36 trong\n18 54 33 khi\n18 39 33 có\n18 82 33 nhân\n18 72 35 viên\n18 64 40 học\n18 64 33 khu\n18 83 44 giám\n15 56 35 sát.\n18 88 41 Quản\n18 121 41 Trị/hay\n20 34 40 vị\n18 92 34 Giám\n18 71 39 Đốc\n18 69 37 Học\n18 72 33 Khu\n18 41 39 về\n18 92 33 chính\n15 74 32 sách\n18 109 43 và/hay\n18 72 40 điều\n18 31 40 lệ\n15 40 35 đã\n18 84 40 được\n18 44 32 tái\n18 92 43 duyệt\n18 76 42 xét).\n23 100 47 BẢO\n25 129 46 HIỂM\n28 38 35 Y\n23 61 46 TẾ\n23 102 47 CỦA\n23 106 45 HỌC\n23 113 36 SINH\n23 97 42 HỌC\n23 104 32 SINH\n23 134 34 THAM\n23 84 33 GIA\n23 100 44 ",
      "VÀO\n23 107 47 VIỆC\n23 130 42 KHẢO\n23 82 43 SÁT\n18 70 37 Học\n18 66 35 khu\n18 61 41 hay\n18 64 34 văn\n18 104 41 phòng\n15 80 41 quận\n15 51 38 hạt\n18 80 33 cung\n15 57 49 cấp\n18 81 43 hoặc\n15 97 43 chuẩn\n18 109 40 Không\n18 62 39 học\n18 68 34 sinh\n15 60 32 nào\n18 72 41 phải\n18 50 50 lấy\n18 53 42 bất\n18 44 33 cứ\n18 52 35 bài\n18 84 40 kiểm\n20 55 33 tra\n18 80 33 khảo\n18 34 40 bị\n15 55 39 sẵn\n18 104 41 những\n18 70 41 dịch\n18 44 30 vụ\n20 24 31 y\n15 32 42 tế\n18 60 42 hay\n18 81 40 bệnh\n18 70 40 viện\n18 82 33 chữa\n20 41 40 trị\n18 117 41 thuơng\n18 57 42 sát\n15 79 41 bảng\n15 57 32 câu\n18 54 34 hỏi\n18 60 41 hay\n18 51 34 bài\n18 46 36 thi\n18 61 31 nào\n18 40 31 có\n18 104 40 những\n15 57 31 câu\n18 53 33 hỏi\n18 40 39 về\n18 44 31 tín\n18 63 35 tích\n18 60 33 cho\n15 56 32 các\n18 62 39 học\n18 68 33 sinh\n15 40 32 do\n18 40 30 sự\n18 41 39 cố\n18 89 39 trong\n15 56 33 các\n18 125 41 chuơng\n18 79 32 trình\n18 127 39 ngưỡng\n18 39 33 cá\n18 94 40 nhân\n18 61 41 hay\n18 52 41 gia\n18 74 33 đình\n18 60 40 hay\n18 106 42 những\n18 65 34 thói\n15 79 31 quen\n18 41 45 về\n18 61 41 hay\n18 73 41 hoạt\n18 83 40 động\n18 44 39 tại\n18 122 40 trường.\n18 111 41 Không\n18 61 39 học\n18 68 34 sinh\n18 62 33 nào\n20 35 39 bị\n15 52 44 bắt\n18 65 41 giới\n20 76 40 tính\n18 53 34 đời\n18 79 50 sống\n18 52 43 gia\n20 85 41 đình\n18 71 35 luân\n28 45 44 lý\n18 79 39 hoặc\n18 54 34 tôn\n18 70 42 giáo\n18 53 32 mà\n18 80 39 buộc\n18 72 42 phải\n15 78 44 chấp\n18 82 40 nhận\n18 104 40 những\n18 111 41 dịchvụ\n18 67 33 như\n18 54 43 thế\n18 55 32 mà\n18 104 42 không\n18 40 32 có\n18 103 41 không\n18 39 32 có\n18 39 31 sự\n18 84 50 đồng\n23 25 42 ý\n15 58 33 của\n18 64 42 phụ\n18 116 42 huynh.\n18 41 29 sự\n18 82 50 đồng\n23 27 39 ý\n18 59",
      " 32 của\n15 50 23 em\n18 61 39 học\n18 69 34 sinh\n20 52 40 đó\n15 78 42 hoặc\n18 61 42 nếu\n18 31 33 là\n18 71 40 một\n18 47 32 trẻ\n18 31 41 vị\n18 93 36 thành\n18 82 40 niên\n18 53 32 mà\n18 104 41 không\n15 37 28 có\n18 39 30 sự\n18 84 49 đồng\n23 25 42 ý\n18 59 32 của\n15 58 33 cha\n18 53 32 mẹ\n18 62 40 hay\n18 66 39 Tuy\n18 101 36 nhiên\n18 70 41 việc\n15 59 41 dấu\n20 63 43 tên\n18 37 33 tự\n18 134 40 nguyện\n18 40 32 và\n15 59 33 bảo\n15 62 37 mật\n18 79 39 cũng\n18 65 33 như\n18 96 39 người\n18 83 45 giám\n18 54 41 hộ.\n18 64 38 Quí\n20 35 41 vị\n18 39 33 có\n18 54 45 thể\n18 81 39 nhận\n15 84 31 thêm\n18 44 32 tin\n18 56 33 tức\n18 61 35 liên\n15 55 33 các\n18 125 40 phương\n18 65 38 tiện\n15 80 33 đánh\n18 53 39 giá\n15 40 39 để\n18 43 33 đo\n18 98 41 lường\n18 65 33 tình\n15 84 38 trạng\n18 40 31 và\n18 46 34 rủi\n18 38 23 ro\n15 79 32 quan\n18 46 32 tới\n18 70 41 việc\n18 40 32 có\n15 55 39 sẵn\n15 59 32 bảo\n18 83 40 hiểm\n18 44 34 tai\n18 62 30 nạn\n18 59 33 cho\n18 63 40 học\n18 70 34 sinh\n15 79 52 bằng\n18 41 39 về\n18 58 32 sức\n18 81 32 khỏe\n18 61 32 của\n18 61 40 học\n20 79 39 sinh\n15 60 33 bao\n18 73 48 gồm\n18 107 41 những\n18 52 34 bài\n18 81 41 kiểm\n20 55 37 tra\n18 77 32 cách\n18 63 33 liên\n18 47 40 lạc\n18 55 33 với\n18 72 42 hiệu\n18 110 39 trưởng\n18 121 40 trường.\n18 90 42 (Luật\n18 72 41 giáo\n18 60 40 dục\n18 38 37 số\n15 60 33 bản\n15 56 33 câu\n18 54 36 hỏi\n18 42 32 và\n18 107 41 những\n18 61 33 bản\n18 82 33 khảo\n15 47 33 sát\n18 81 33 chứa\n18 83 42 đựng\n18 104 42 những\n18 60 32 câu\n18 127 43 49472.)\n18 54 32 hỏi\n18 62 41 phù\n18 64 41 hợp\n18 56 33 với\n18 42 41 độ\n18 66 39 tuổi\n18 41 33 và\n18 65 34 thái\n18 43 38 độ\n18 60 32 của\n18 61 40 học\n18 68 33 sinh\n18 61 34 liên\n15 78 30 quan\n23 56 38 tới\n18 60 39 hay\n18 73 39 thực\n18 63 39 tiễn\n18 59 33 liên\n15 80 31 quan\n18",
      " 47 35 tới\n18 107 40 những\n18 61 40 vấn\n15 39 40 đề\n18 40 41 về\n18 64 33 tính\n18 59 39 dục\n25 69 46 ĂN\n23 138 38 TRƯA\n25 125 47 MIỄN\n25 84 46 PHÍ\n25 106 34 HAY\n25 131 47 GIẢM\n25 91 46 GIÁ\n18 40 33 có\n15 52 40 thể\n18 81 38 được\n18 74 39 thực\n18 72 39 hiện\n18 60 34 cho\n18 53 42 bất\n18 44 33 cứ\n18 62 40 học\n18 71 33 sinh\n15 60 32 nào\n18 35 32 từ\n18 53 41 lớp\n18 21 31 7\n18 67 33 Các\n18 64 42 học\n18 73 37 sinh\n18 85 41 được\n18 43 31 ăn\n18 70 32 trưa\n18 86 43 miễn\n18 57 40 phí\n18 64 43 hay\n18 87 45 giảm\n18 65 42 giá.\n15 58 39 đến\n18 52 42 lớp\n13 36 33 12\n18 62 41 nếu\n18 61 41 phụ\n18 103 42 huynh\n18 61 41 hay\n18 99 43 người\n18 82 42 giám\n18 43 37 hộ\n18 102 42 không\n18 63 41 viết\n18 74 41 Hãy\n18 66 45 tiếp\n18 62 33 xúc\n18 56 35 với\n18 117 42 trường\n18 43 43 để\n18 65 42 biết\n18 76 24 xem\n18 64 23 con\n18 57 39 quí\n20 33 40 vị\n18 40 33 có\n18 57 42 hội\n18 71 49 giấy\n18 59 39 yêu\n18 59 41 cầu\n18 41 39 để\n18 59 22 con\n15 52 23 em\n18 43 39 họ\n18 103 43 không\n15 84 34 tham\n18 64 40 gia.\n18 87 41 (Luật\n18 70 38 giáo\n18 45 34 đủ\n18 75 45 điều\n18 76 41 kiện\n18 121 43 không.\n23 67 33 Xin\n18 64 50 tiếp\n18 63 39 cận\n18 76 40 mẫu\n18 67 36 đơn\n18 71 37 trên\n18 89 39 trang\n18 59 39 dục\n18 37 39 số\n15 58 32 515\n20 52 40 13\n18 112 43 51938\n18 114 40 60614;\n18 42 31 20\n18 113 32 U.S.C.\n18 145 43 1232h(a)\n18 41 31 và\n18 71 42 (b).)\n18 96 34 mạng\n18 46 41 tại\n18 525 45 www.scusd.edu/applyformeals\n18 96 41 (Theo\n15 75 49 chấp\n18 94 39 thuận\n18 60 32 của\n20 ",
      "53 46 Ủy\n18 68 31 Ban\n18 90 39 Quản\n18 50 41 Trị\n18 127 39 và/hoặc\n20 33 40 vị\n18 91 35 Giám\n18 69 40 Đốc\n18 69 39 Học\n18 71 32 Khu\n18 40 43 về\n18 91 33 chính\n18 75 33 sách\n18 111 42 và/hay\n18 53 39 qui\n18 74 40 định\n15 40 32 đã\n18 82 39 được\n25 85 46 TÀI\n23 94 45 SẢN\n25 70 47 CÁ\n23 140 47 NHÂN\n18 92 42 duyệt\n18 73 43 xét).\n18 72 39 Học\n18 67 34 khu\n18 64 42 hay\n18 58 33 các\n18 63 32 văn\n18 107 44 phòng\n18 86 41 quận\n18 56 41 hạt\n18 108 43 không\n18 75 41 chịu\n18 88 34 trách\n18 111 39 nhiệm\n18 42 43 về\n18 46 34 tài\n18 59 33 sản\n18 41 33 cá\n18 95 34 nhân.\n18 68 33 Các\n18 63 41 học\n18 74 35 sinh\n18 87 41 được\n18 127 47 khuyến\n25 89 35 GIA\n25 135 52 NHẬP\n25 158 46 CHÍNH\n25 218 56 TRỊ/THÁI\n23 225 56 ĐỘ/KHẢO\n15 58 31 cáo\n18 108 43 không\n18 98 35 mang\n18 110 42 những\n18 62 35 thứ\n18 108 45 không\n18 67 34 liên\n18 84 33 quan\n18 41 42 về\n18 61 42 học\n23 91 45 SÁT\n25 100 45 MỐI\n23 139 45 QUAN\n23 66 49 HỆ\n23 135 50 THÂN\n25 103 54 CẬN\n25 89 35 GIA\n23 136 47 ĐÌNH.\n18 55 42 tập\n18 47 33 tới\n18 125 44 trường.\n18 65 32 Các\n18 62 41 phụ\n18 104 41 huynh\n15 35 30 sẽ\n18 81 40 được\n18 95 41 thông\n15 60 33 báo\n18 82 48 bằng\n18 57 31 thư\n18 61 41 nếu\n18 66 37 một\n18 50 31 bài\n18 82 42 kiểm\n20 55 34 tra\n18 82 40 bảng\n18 59 32 câu\n23 66 38 hỏi\n15 60 35 bản\n18 81 33 khảo\n18 56 38 sát\n18 63 41 hay\n18 52 32 bài\n18 45 34 thi\n15 39 41 áp\n18 81 41 dụng\n28 117 51 PHỔ\n28 131 50 BIẾN\n28 98 37 TIN\n25 113 52 TỨC\n28 149 39 THEO\n25 150 39 DANH\n28 126 48 MỤC\n18 59 32 cho\n15 58 22 con\n18 53 40 quí\n20 33 39 vị\n18 41 34 có\n15 55 32 các\n18 59 33 câu\n18 54 32 hỏi\n18 42 40 về\n18 61 32 bản\n18 82 42 thân\n18 60 41 hay\n18 51 41 gia\n18 81 42 nhập\n15 80 40 đảng\n18 70 41 phái\n18 92 33 chính\n18 38 39 trị\n18 61 41 hay\n18 45 32 tín\n18 139 39 ngưỡng\n18 53 38 bất\n18 64 41 hợp\n18 90 41 pháp\n",
      "18 99 47 chống\n25 101 47 XÁC\n23 124 45 ĐỊNH\n25 76 47 HỒ\n23 66 38 SƠ\n23 107 43 HỌC\n23 115 36 SINH\n18 52 40 đối\n18 42 30 xã\n20 64 40 hội\n15 34 35 tự\n18 53 42 kết\n23 57 46 tội\n18 60 42 hay\n18 42 39 hạ\n18 73 47 thấp\n15 92 48 phẩm\n20 62 43 giá\n18 104 41 những\n18 60 39 vấn\n20 54 42 Hồ\n18 41 23 sơ\n18 64 41 học\n18 72 35 sinh\n18 33 36 là\n18 56 44 bất\n18 44 33 cứ\n18 85 42 hạng\n18 74 33 mục\n18 47 34 tin\n18 57 32 tức\n18 34 43 gì\n18 97 41 ngoài\n18 48 35 tin\n15 40 40 đề\n15 61 33 tâm\n18 73 39 thần\n18 62 40 hay\n15 63 33 tâm\n25 44 43 lý\n18 63 38 luật\n20 51 32 sư\n18 22 31 y\n23 38 40 sĩ\n18 73 28 mục\n20 50 32 sư\n18 104 40 những\n15 79 32 đánh\n18 52 41 giá\n15 44 41 rất\n18 81 30 quan\n18 89 38 trọng\n15 58 32 của\n18 106 40 những\n18 39 32 cá\n18 83 33 nhân\n15 52 32 mà\n18 55 41 quí\n20 34 40 vị\n18 39 33 có\n18 64 39 mối\n18 57 33 tức\n18 86 34 danh\n18 75 31 mục\n18 41 33 có\n18 66 36 liên\n18 85 34 quan\n18 70 34 trực\n18 64 50 tiếp\n20 50 34 tới\n18 70 39 một\n18 64 42 học\n18 73 36 sinh\n18 42 34 có\n18 54 41 thể\n18 88 41 được\n18 86 40 nhận\n18 74 43 diện\n18 43 33 và\n18 87 42 được\n18 58 35 lưu\n18 60 40 giữ\n18 55 34 bởi\n18 63 42 học\n18 67 36 khu\n15 80 32 quan\n15 40 38 hệ\n15 71 32 thân\n15 57 37 cận\n18 52 43 gia\n18 75 35 đình\n18 40 31 và\n18 55 34 thu\n18 82 42 nhập\n18 105 41 (ngoại\n15 48 32 trừ\n18 63 39 luật\n18 81 41 pháp\n18 60 40 yêu\n15 56 40 cầu\n18 42 38 để\n18 58 32 ",
      "xác\n18 72 39 định\n15 38 33 có\n18 43 33 đủ\n18 37 28 tư\n18 77 33 cách\n15 82 33 tham\n18 52 40 gia\n18 66 38 một\n18 63 42 hay\n18 54 35 đòi\n18 55 34 hỏi\n18 69 41 một\n18 87 36 nhân\n18 74 37 viên\n18 75 43 chịu\n18 88 33 trách\n18 108 42 nhiệm\n20 59 39 lưu\n18 69 45 giữ.\n18 122 42 chương\n18 78 33 trình\n18 59 41 hay\n15 80 39 nhận\n18 48 38 trợ\n18 73 43 giúp\n15 40 35 tài\n15 98 31 chánh\n15 71 33 theo\n18 122 40 chương\n15 39 35 16\nGT_word_icdar_refined1508/SCAN_20191128_145142994_001.txt\n28 106 59 Học\n30 115 46 Khu\n25 313 47 Sacramento\n13 162 32 Sacramento\n25 268 48 2018-2019\n15 58 39 City\n13 98 36 Unified\n13 91 39 School\n15 103 36 District\n33 208 67 Những\n30 135 54 Tiêu\n33 203 72 Chuẩn\n33 169 67 Hạnh\n33 157 68 Kiểm\n30 139 55 Cam\n33 111 65 Kết\n33 125 56 Của\n30 118 65 Phụ\n33 208 66 Huynh\n30 72 51 và\n33 122 67 Học\n30 134 55 Sinh\n30 99 50 Xin\n30 103 61 Quí\n33 64 63 Vị\n28 107 57 Đọc\n28 66 46 và\n33 84 59 Ký\n28 103 48 Tên\n28 171 58 Chúng\n28 67 48 tôi\n25 144 59 thông\n23 89 46 báo\n25 62 42 đã\n25 125 57 nhận\n25 125 56 được\n25 150 68 quyển\n28 173 52 Những\n25 111 45 Tiêu\n28 168 55 Chuẩn\n28 140 51 Hạnh\n28 138 57 Kiểm\n25 108 43 năm\n25 272 53 2018-2019\n28 102 44 như\n25 63 44 đã\n25 126 55 được\n25 94 54 giải\n28 127 46 thích\n28 36 44 ở\n25 138 54 trang\n23 30 42 8\n53 38 41 -\n30 75 54 14\n25 61 44 đã\n25 89 55 đọc\n25 96 44 qua\n25 62 44 và\n23 103 32 xem\n28 81 57 nội\n25 143 54 dung.\n28 182 58 Chúng\n28 69 48 tôi\n28 114 62 hiểu\n28 126 72 rằng\n28 100 60 bổn\n28 134 66 phận\n25 ",
      "91 49 của\n28 162 61 chúng\n28 72 52 tôi\n30 55 47 là\n28 122 58 phải\n28 119 63 giúp\n25 92 33 con\n28 135 51 mình\n25 99 60 đáp\n28 103 61 ứng\n28 174 59 những\n28 101 49 tiêu\n28 162 62 chuẩn\n28 135 59 hạnh\n28 130 59 kiểm\n25 109 57 này.\n23 81 44 Phụ\n20 263 49 huynh/Người\n20 100 45 giám\n20 52 50 hộ\n23 68 47 (ký\n20 80 48 tên)\n20 82 45 Học\n23 91 38 Sinh\n23 66 49 (ký\n20 77 46 tên)\n20 78 36 Tên\n23 81 45 Phụ\n20 264 47 huynh/Người\n20 98 45 giám\n20 52 45 hộ\n20 90 54 (viết\n20 77 39 chữ\n23 57 46 in)\n20 77 36 Tên\n20 82 44 Học\n20 81 35 sinh\n20 89 55 (viết\n20 78 37 chữ\n23 56 51 in)\n20 106 48 Ngày\n20 104 46 Ngày\n20 80 35 Tên\n23 154 44 Trường\n"
     ],
     "output_type": "stream"
    }
   ],
   "source": [
    "img_dir = 'images'\n",
    "box_dir = 'GT_word_icdar_refined1508'\n",
    "\n",
    "\n",
    "# default_char_list = 'ABCDEFGHIJKLMNOPQRSTUVWXYZabcdefghijklmnopqrstuvwxyz|' \\\n",
    "#                     '0123456789' \\\n",
    "#                     'ĂÂÊÔƠƯÁẮẤÉẾÍÓỐỚÚỨÝÀẰẦÈỀÌÒỒỜÙỪỲẢẲẨĐẺỂỈỎỔỞỦỬỶÃẴẪẼỄĨÕỖỠŨỮỸẠẶẬẸỆỊỌỘỢỤỰỴ' \\\n",
    "#                     'ăâêôơưáắấéếíóốớúứýàằầèềìòồờùừỳảẳẩđẻểỉỏổởủửỷãẵẫẽễĩõỗỡũữỹạặậẹệịọộợụựỵ' \\\n",
    "#                     '\\'*:,@.-(#%\")/~!^&_+={}[]\\;<>?※”$€£¥₫°²™ā–'\n",
    "# \n",
    "# \n",
    "# char_group = {}\n",
    "# char_group['base_cap'] = 'ABCDĐEFGHIJKLMNOPRSTUƠƯVWXYZ0123456789bdđfhikltăẽỡũữĩõâêôáởủửãéíóớúứàèìòờùừảẻỉỏ'\n",
    "# char_group['upper_base_cap'] = 'ĂÂÊÔÁẮẤÉẾÍÓỐỚÚỨÝÀẰẦÈỀÌÒỒỜÙỪỲẢẲẨẺỂỈỎỔỞỦỬỶÃẴẪẼỄĨÕỖỠŨỮỸồểẳẩằầếắấốềổẵẫễỗ'\n",
    "# char_group['base_descent'] = 'ạẹọợụựỵgpqy'\n",
    "# char_group['base'] = 'acemnorsuvwxzơư'\n",
    "# char_group['base_cap_descent'] = 'ýỳỷỹặậệịộẠẸỊỌỢỤỰỴjQ'\n",
    "# char_group['upper_base_cap_descent'] = 'ẶẬỆỘ'\n",
    "# char_group = [base_cap, upper_base_cap,base_descent, base, base_cap_descent, upper_base_cap_descent]\n",
    "# s1 = '4321'\n",
    "# s2 = '1234'\n",
    "# set1 = set(s1)\n",
    "# set2 = set(s2)\n",
    "# print (set1 == set2)\n",
    "\n",
    "images = get_img_paths(img_dir)\n",
    "\n",
    "for img_path in images:\n",
    "    img = cv2.imread(img_path)\n",
    "    label_path = os.path.join(box_dir, os.path.basename(os.path.splitext(img_path)[0])+ '.txt')\n",
    "    print(label_path)\n",
    "    data = pd.read_csv(label_path, usecols=np.r_[0:9], header=None)\n",
    "    # print(data.head())\n",
    "    for index, row in data.iterrows():\n",
    "        # print()\n",
    "        x0,y0,x1,y1,x2,y2,x3,y3,text = list(row)\n",
    "        wid = x1-x0\n",
    "        hei = y3-y0\n",
    "        font_size =0\n",
    "        font_size = get_font_size2(text, wid,hei)\n",
    "        # type_chars = []\n",
    "        # for g in char_group:\n",
    "        #     if set(char_group[g]) & set(text):\n",
    "        #         type_chars.append(g)\n",
    "        # font_size = hei\n",
    "        # type_chars = '_'.join(type_chars)\n",
    "        # type_chars = type_chars.split('_')\n",
    "        # type_chars = set(type_chars)\n",
    "        # if type_chars == {'upper', 'cap', 'base', 'descent'}:\n",
    "        #     font_size = font_size/2.5\n",
    "        # elif type_chars == {'upper', 'cap', 'base'}:\n",
    "        #     font_size = font_size/2\n",
    "        # elif type_chars == { 'cap', 'base', 'descent'}:\n",
    "        #     font_size = font_size/2.2\n",
    "        # elif type_chars == {'cap', 'base'}:\n",
    "        #     font_size = font_size*2/3.5\n",
    "        # elif type_chars == { 'base', 'descent'}:\n",
    "        #     font_size = font_size*2/3\n",
    "        # elif type_chars == { 'base'}:\n",
    "        #     font_size = font_size\n",
    "        # else:\n",
    "        #     print('wrong type char')\n",
    "        # font_size = round(font_size,1)\n",
    "        print(font_size,wid,hei, text)\n",
    "        \n",
    "        \n",
    "        "
   ],
   "metadata": {
    "collapsed": false,
    "pycharm": {
     "name": "#%%\n",
     "is_executing": false
    }
   }
  },
  {
   "cell_type": "code",
   "execution_count": 16,
   "outputs": [
    {
     "data": {
      "text/plain": "66"
     },
     "metadata": {},
     "output_type": "execute_result",
     "execution_count": 16
    }
   ],
   "source": [
    "get_font_size('2', 32)"
   ],
   "metadata": {
    "collapsed": false,
    "pycharm": {
     "name": "#%%\n",
     "is_executing": false
    }
   }
  },
  {
   "cell_type": "code",
   "execution_count": 17,
   "outputs": [
    {
     "name": "stdout",
     "text": [
      "final font size 69\n"
     ],
     "output_type": "stream"
    }
   ],
   "source": [
    "\n",
    "from PIL import ImageFont, ImageDraw, Image\n",
    "\n",
    "image = Image.new(\"RGB\", (800, 600))\n",
    "draw = ImageDraw.Draw(image)\n",
    "txt = \"Hello World\"\n",
    "fontsize = 1  # starting font size\n",
    "\n",
    "# portion of image width you want text width to be\n",
    "img_fraction = .5\n",
    "\n",
    "font = ImageFont.truetype(\"DejaVuSans.ttf\", fontsize)\n",
    "while font.getsize(txt)[0] < img_fraction*image.size[0]:\n",
    "    # iterate until the text size is just larger than the criteria\n",
    "    fontsize += 1\n",
    "    font = ImageFont.truetype(\"DejaVuSans.ttf\", fontsize)\n",
    "\n",
    "# optionally de-increment to be sure it is less than criteria\n",
    "fontsize -= 1\n",
    "font = ImageFont.truetype(\"DejaVuSans.ttf\", fontsize)\n",
    "\n",
    "print('final font size',fontsize)\n",
    "draw.text((10, 25), txt, font=font) # put the text on the image\n",
    "# image.save('hsvwheel_txt.png') # save it\n",
    "\n",
    "# image\n",
    "# # use a truetype font\n",
    "# font = ImageFont.truetype(\"DejaVuSans.ttf\", 30)\n",
    "# all_size = []\n",
    "# for char in default_char_list:\n",
    "#     im = Image.new(\"RGB\", (800, 600))\n",
    "#     draw = ImageDraw.Draw(im)\n",
    "#     draw.text((0, 0),char, font=font)\n",
    "#     im=im.crop(im.getbbox())\n",
    "#     print(char, im.getbbox())\n",
    "#     all_size.append(im.getbbox()[3])\n",
    "#     \n",
    "# all_size = set(all_size)\n",
    "# print(all_size)"
   ],
   "metadata": {
    "collapsed": false,
    "pycharm": {
     "name": "#%%\n",
     "is_executing": false
    }
   }
  }
 ],
 "metadata": {
  "kernelspec": {
   "display_name": "Python 3",
   "language": "python",
   "name": "python3"
  },
  "language_info": {
   "codemirror_mode": {
    "name": "ipython",
    "version": 2
   },
   "file_extension": ".py",
   "mimetype": "text/x-python",
   "name": "python",
   "nbconvert_exporter": "python",
   "pygments_lexer": "ipython2",
   "version": "2.7.6"
  },
  "pycharm": {
   "stem_cell": {
    "cell_type": "raw",
    "source": [],
    "metadata": {
     "collapsed": false
    }
   }
  }
 },
 "nbformat": 4,
 "nbformat_minor": 0
}